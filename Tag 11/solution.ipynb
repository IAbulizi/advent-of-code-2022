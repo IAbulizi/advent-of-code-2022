{
 "cells": [
  {
   "cell_type": "code",
   "execution_count": 1,
   "metadata": {},
   "outputs": [],
   "source": [
    "import re\n",
    "import sys\n",
    "sys.path.append(\"..\")\n",
    "import lib"
   ]
  },
  {
   "cell_type": "code",
   "execution_count": null,
   "metadata": {},
   "outputs": [],
   "source": [
    "MONKEYS = []\n",
    "\n",
    "class Monkey():\n",
    "    def __init__(self):\n",
    "        self.test = NotImplemented\n",
    "        self.worry_levels = [NotImplemented]\n",
    "        self.action_true = NotImplemented\n",
    "        self.action_false = NotImplemented\n",
    "        pass\n",
    "\n",
    "    def __repr__(self):\n",
    "        pass"
   ]
  },
  {
   "cell_type": "code",
   "execution_count": 9,
   "metadata": {},
   "outputs": [],
   "source": [
    "def parse_monkey(input : str):\n",
    "    pass\n",
    "\n",
    "def parse_split_into_monkeys(input : str):\n",
    "    regex = re.split(\"\\n{2}\", input)\n",
    "    MONKEYS = [parse_monkey(regex[idx]) for idx in len(regex)]\n",
    "    return regex"
   ]
  },
  {
   "cell_type": "code",
   "execution_count": 10,
   "metadata": {},
   "outputs": [
    {
     "data": {
      "text/plain": [
       "['Monkey 0:\\n  Starting items: 79, 98\\n  Operation: new = old * 19\\n  Test: divisible by 23\\n    If true: throw to monkey 2\\n    If false: throw to monkey 3',\n",
       " 'Monkey 1:\\n  Starting items: 54, 65, 75, 74\\n  Operation: new = old + 6\\n  Test: divisible by 19\\n    If true: throw to monkey 2\\n    If false: throw to monkey 0',\n",
       " 'Monkey 2:\\n  Starting items: 79, 60, 97\\n  Operation: new = old * old\\n  Test: divisible by 13\\n    If true: throw to monkey 1\\n    If false: throw to monkey 3',\n",
       " 'Monkey 3:\\n  Starting items: 74\\n  Operation: new = old + 3\\n  Test: divisible by 17\\n    If true: throw to monkey 0\\n    If false: throw to monkey 1']"
      ]
     },
     "execution_count": 10,
     "metadata": {},
     "output_type": "execute_result"
    }
   ],
   "source": [
    "input = lib.read_file_as_one(\"test_input.txt\")\n",
    "parse_split_into_monkeys(input)"
   ]
  }
 ],
 "metadata": {
  "kernelspec": {
   "display_name": "Python 3.11.0 ('.venv-aoc': venv)",
   "language": "python",
   "name": "python3"
  },
  "language_info": {
   "codemirror_mode": {
    "name": "ipython",
    "version": 3
   },
   "file_extension": ".py",
   "mimetype": "text/x-python",
   "name": "python",
   "nbconvert_exporter": "python",
   "pygments_lexer": "ipython3",
   "version": "3.11.0"
  },
  "orig_nbformat": 4,
  "vscode": {
   "interpreter": {
    "hash": "ef9b0263cc57ba0721637a3ca3550c3d5851fce86bac14c6061ac109ebcdb11c"
   }
  }
 },
 "nbformat": 4,
 "nbformat_minor": 2
}
