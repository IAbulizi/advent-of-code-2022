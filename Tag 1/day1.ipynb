{
 "cells": [
  {
   "cell_type": "code",
   "execution_count": null,
   "metadata": {},
   "outputs": [],
   "source": [
    "import pandas as pd\n",
    "import numpy as np"
   ]
  },
  {
   "cell_type": "code",
   "execution_count": null,
   "metadata": {},
   "outputs": [],
   "source": [
    "filename = \"./input.txt\"\n",
    "with open(filename) as file:\n",
    "    lines = [line.rstrip() for line in file]\n",
    "display(lines[:10])"
   ]
  },
  {
   "cell_type": "code",
   "execution_count": null,
   "metadata": {},
   "outputs": [],
   "source": [
    "test = lines[4]\n",
    "if test == '':\n",
    "    print(\"Next elf\")\n",
    "else:\n",
    "    print(int(test))"
   ]
  },
  {
   "cell_type": "code",
   "execution_count": null,
   "metadata": {},
   "outputs": [],
   "source": [
    "calories_of_each_elf = []\n",
    "single_counter = 0\n",
    "n_elves = 0\n",
    "for entry in lines:\n",
    "    if entry == '':\n",
    "        n_elves += 1\n",
    "        #print(f\"Next elf, last elf had {single_counter} calories.\")\n",
    "        calories_of_each_elf.append(single_counter)\n",
    "        single_counter = 0\n",
    "    else:\n",
    "        single_counter += int(entry)\n",
    "# one last time in the end\n",
    "n_elves += 1\n",
    "calories_of_each_elf.append(single_counter)\n",
    "single_counter = 0"
   ]
  },
  {
   "cell_type": "code",
   "execution_count": null,
   "metadata": {},
   "outputs": [],
   "source": [
    "print(f\"Max = {max(calories_of_each_elf)}\")\n",
    "print(f\"\\n Whole list: {calories_of_each_elf}\")"
   ]
  },
  {
   "cell_type": "code",
   "execution_count": null,
   "metadata": {},
   "outputs": [],
   "source": [
    "# Sort array\n",
    "calories_of_each_elf = np.array(calories_of_each_elf)\n",
    "# Print to assert correctness\n",
    "print(calories_of_each_elf[-20:])\n",
    "# Add up first three\n",
    "sum = np.sum(calories_of_each_elf[-3:])\n",
    "print(sum)"
   ]
  }
 ],
 "metadata": {
  "kernelspec": {
   "display_name": "Python 3.11.0 ('.venv-aoc': venv)",
   "language": "python",
   "name": "python3"
  },
  "language_info": {
   "codemirror_mode": {
    "name": "ipython",
    "version": 3
   },
   "file_extension": ".py",
   "mimetype": "text/x-python",
   "name": "python",
   "nbconvert_exporter": "python",
   "pygments_lexer": "ipython3",
   "version": "3.11.0"
  },
  "orig_nbformat": 4,
  "vscode": {
   "interpreter": {
    "hash": "ef9b0263cc57ba0721637a3ca3550c3d5851fce86bac14c6061ac109ebcdb11c"
   }
  }
 },
 "nbformat": 4,
 "nbformat_minor": 2
}
