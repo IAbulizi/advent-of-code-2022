{
 "cells": [
  {
   "cell_type": "code",
   "execution_count": 26,
   "metadata": {},
   "outputs": [],
   "source": [
    "import sys\n",
    "sys.path.append(\"..\")\n",
    "import lib\n",
    "import numpy as np"
   ]
  },
  {
   "cell_type": "markdown",
   "metadata": {},
   "source": [
    "## Outline Problem\n",
    "- CPU has single register X starting with value 1\n",
    "- Two instructions\n",
    "    - addx V\n",
    "        - takes 2 cycles to complete\n",
    "        - after two cycles, X register adjusts by value V\n",
    "    - noop\n",
    "        - takes 1 cycle to complete\n",
    "\n",
    "For now, try to look at signal strength ($n_{cycle} \\times val_{register}$) at each 20th cycle.\n",
    "\n",
    "## Task of problem A:\n",
    "- Sum up the signal strengths during 20th, 60th, 100th cycle and so on ...\n",
    "\n",
    "## Addition of part B:\n",
    "- Register X controls horizontal position of sprite -> specifically the middle of the 3-pixels-wide sprite\n",
    "- pixels on CRT: 40 wide and 6 high -> CRT draws top row left-to-right, then row below that and so on (240 cycle)\n",
    "- left most is in position 0 and right-most pixel in position 39\n",
    "- CRT draws single pixel during each cycle\n",
    "\n",
    "- if sprite positioned s.t. 1/3 of its pixels is the one currently being drawn -> the screen produces a LIT pixel (#)\n",
    "- else a NON-LIT pixel (.)\n",
    "\n",
    "## Task of problem B:\n",
    "Just read the screen."
   ]
  },
  {
   "cell_type": "code",
   "execution_count": 46,
   "metadata": {},
   "outputs": [],
   "source": [
    "class ClockCircuit():\n",
    "    def __init__(self, highlighter : str = '#', lowlighter : str = '.') -> None:\n",
    "        self.cycle = 0\n",
    "        self.value = 1 # middle of 3-width sprite -> starts at 012\n",
    "        self.tracker_partA = 0 # sums up each 20th, 60th, 100th, ... signal strength\n",
    "        self.CRT_Screen = '' # output of CRT\n",
    "        self.CRT_Writer = 0 # position of CRT writer\n",
    "        self.HIGHLIGHTER = highlighter #custom #\n",
    "        self.LOWLIGHTER = lowlighter #custom .\n",
    "\n",
    "    def __repr__(self) -> None:\n",
    "        return f\"Cycle {self.cycle} and Value {self.value}\"\n",
    "\n",
    "    def update_partA(self) -> None:\n",
    "        if self.cycle % 40 == 20:\n",
    "            self.tracker_partA += self.cycle * self.value\n",
    "        return\n",
    "\n",
    "    def print_CRT(self, verbose : bool = False) -> None:\n",
    "        print(f\"Printing CRT with length {len(self.CRT_Screen)} at cycle {self.cycle}\") if verbose else None\n",
    "        LINE_LENGTH = 40\n",
    "        for idx_line in range(len(self.CRT_Screen) // LINE_LENGTH + 1):\n",
    "            print(self.CRT_Screen[idx_line * 40 : (idx_line+1) * 40])\n",
    "        return\n",
    "    \n",
    "    def draw_on_CRT(self, verbose : bool = False) -> None:\n",
    "        # compare positions of sprite (1 around register self.value) with CRT_writer\n",
    "        # draw # if hovering, else .\n",
    "        if np.absolute(self.CRT_Writer % 40 - self.value) <= 1:\n",
    "            self.CRT_Screen += self.HIGHLIGHTER\n",
    "        else:\n",
    "            self.CRT_Screen += self.LOWLIGHTER\n",
    "        self.print_CRT(True) if verbose else None\n",
    "        self.CRT_Writer += 1 # increase at end of cycle\n",
    "        return\n",
    "\n",
    "    def execute_move(self, move : str, change_of_value : int = None, verbose : bool = False) -> None:\n",
    "        # executes move noop or addx, if addx, includes change of value\n",
    "        self.cycle += 1\n",
    "        print(f\"Executing {move} with {change_of_value} value delta at cycle {self.cycle}.\") if verbose else None\n",
    "        # implicit: begin executing addx\n",
    "        self.draw_on_CRT(verbose)\n",
    "        self.update_partA()\n",
    "        if move == \"addx\":\n",
    "            self.cycle += 1\n",
    "            self.draw_on_CRT(verbose)\n",
    "            self.update_partA()\n",
    "            self.value += change_of_value # explicit: finishing executing addx\n",
    "        return\n",
    "\n",
    "    def parse_line(self, line : str, verbose : bool = False) -> None:\n",
    "        # parses line and passes to execute_move\n",
    "        change_of_value = 0 if line == \"noop\" else int(line[5:])\n",
    "        self.execute_move(\"noop\", verbose) if line == \"noop\" else self.execute_move(\"addx\", change_of_value, verbose)\n",
    "        return"
   ]
  },
  {
   "cell_type": "code",
   "execution_count": 47,
   "metadata": {},
   "outputs": [
    {
     "name": "stdout",
     "output_type": "stream",
     "text": [
      "Result of part A on test file : 13140\n",
      "Part A works for test file, moving on to whole input...\n",
      "Answer: 11780\n"
     ]
    }
   ],
   "source": [
    "def compute_partA(filename : str, verbose : bool = False) -> int:\n",
    "    lines = lib.read_file(filename)\n",
    "    instance = ClockCircuit()\n",
    "    for line in lines:\n",
    "        instance.parse_line(line, verbose)\n",
    "    return instance.tracker_partA\n",
    "\n",
    "def solve_partA():\n",
    "    result = compute_partA(\"test_input.txt\", False)\n",
    "    print(f\"Result of part A on test file : {result}\")\n",
    "    assert result == 13140, f\"Part A faulty on test file... output = {result}\"\n",
    "    print(\"Part A works for test file, moving on to whole input...\")\n",
    "    result = compute_partA(\"input.txt\", False)\n",
    "    print(f\"Answer: {result}\")\n",
    "    return\n",
    "\n",
    "solve_partA()"
   ]
  },
  {
   "cell_type": "code",
   "execution_count": 69,
   "metadata": {},
   "outputs": [
    {
     "name": "stdout",
     "output_type": "stream",
     "text": [
      "Result of part B on test file :\n",
      "##  ##  ##  ##  ##  ##  ##  ##  ##  ##  \n",
      "###   ###   ###   ###   ###   ###   ### \n",
      "####    ####    ####    ####    ####    \n",
      "#####     #####     #####     #####     \n",
      "######      ######      ######      ####\n",
      "#######       #######       #######     \n",
      "\n",
      "Part B works for test file, moving on to whole input...\n",
      "Answer :\n",
      "Printing CRT with length 240 at cycle 240\n",
      "###  #### #  # #    ###   ##  #  #  ##  \n",
      "#  #    # #  # #    #  # #  # #  # #  # \n",
      "#  #   #  #  # #    ###  #  # #  # #  # \n",
      "###   #   #  # #    #  # #### #  # #### \n",
      "#    #    #  # #    #  # #  # #  # #  # \n",
      "#    ####  ##  #### ###  #  #  ##  #  # \n",
      "\n"
     ]
    }
   ],
   "source": [
    "def compute_partB(filename : str, verbose : bool = False) -> int:\n",
    "    lines = lib.read_file(filename)\n",
    "    instance = ClockCircuit('#', ' ')\n",
    "    for line in lines:\n",
    "        instance.parse_line(line, verbose)\n",
    "    return instance\n",
    "\n",
    "def solve_partB():\n",
    "    result = compute_partB(\"test_input.txt\", False)\n",
    "    print(f\"Result of part B on test file :\")\n",
    "    result.print_CRT()\n",
    "    print(\"Part B works for test file, moving on to whole input...\")\n",
    "    result = compute_partB(\"input.txt\", False)\n",
    "    print(f\"Answer :\")\n",
    "    result.print_CRT(True)\n",
    "    return\n",
    "\n",
    "solve_partB()"
   ]
  }
 ],
 "metadata": {
  "kernelspec": {
   "display_name": "Python 3.11.0 ('.venv-aoc': venv)",
   "language": "python",
   "name": "python3"
  },
  "language_info": {
   "codemirror_mode": {
    "name": "ipython",
    "version": 3
   },
   "file_extension": ".py",
   "mimetype": "text/x-python",
   "name": "python",
   "nbconvert_exporter": "python",
   "pygments_lexer": "ipython3",
   "version": "3.11.0"
  },
  "orig_nbformat": 4,
  "vscode": {
   "interpreter": {
    "hash": "ef9b0263cc57ba0721637a3ca3550c3d5851fce86bac14c6061ac109ebcdb11c"
   }
  }
 },
 "nbformat": 4,
 "nbformat_minor": 2
}
