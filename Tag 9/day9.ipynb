{
 "cells": [
  {
   "cell_type": "markdown",
   "metadata": {},
   "source": [
    "## Task Description Part A:\n",
    "Simulate your complete hypothetical series of motions. How many positions does the tail of the rope visit at least once?\n",
    "\n",
    "## Task Description Part B:\n",
    "The task officially hates us. Now there are 10 knots, one still being the head, and the other nine being the tail, while each tail respectively being the head of the following one.\n",
    "\n",
    "How many positions does the last tail of the rope visit at least once?"
   ]
  },
  {
   "cell_type": "markdown",
   "metadata": {},
   "source": [
    "## Solution Part A"
   ]
  },
  {
   "cell_type": "code",
   "execution_count": 11,
   "metadata": {},
   "outputs": [],
   "source": [
    "import numpy as np\n",
    "from scipy import sparse\n",
    "\n",
    "import sys\n",
    "sys.path.append(\"..\")\n",
    "import lib"
   ]
  },
  {
   "cell_type": "code",
   "execution_count": 102,
   "metadata": {},
   "outputs": [],
   "source": [
    "def get_max_move(filename : str) -> int:\n",
    "    lines = lib.read_file(filename)\n",
    "    max_dist_per_move = 0\n",
    "    for line in lines:\n",
    "        dist = int(line[2:])\n",
    "        if dist > max_dist_per_move:\n",
    "            max_dist_per_move = dist\n",
    "    return max_dist_per_move\n",
    "\n",
    "class Rope():\n",
    "    def __init__(self, filename : str = None, n_knots : int = 2, verbose : bool = False):\n",
    "        self.knots = [np.zeros((2), dtype = int) for i in range(n_knots)]\n",
    "        self.n_knots = n_knots\n",
    "        assert len(self.knots) == self.n_knots\n",
    "        self.input = open(filename).read()\n",
    "        self.filename = filename\n",
    "        if not (filename is None):\n",
    "            self.init_sparse_map() # create sparse boolean matrix\n",
    "            assert self.sparse_map.count_nonzero() == 1\n",
    "            print(f\"Nonzero indices: {self.sparse_map.nonzero()}\") if verbose else None\n",
    "            print(\"Successfully initialized sparse map.\") if verbose else None\n",
    "        print(\"Successfully initialized rope instance.\") if verbose else None\n",
    "        del self.input\n",
    "        return\n",
    "\n",
    "    def init_sparse_map(self) -> None:\n",
    "        LEN_FILE = self.input.count('\\n') + 1\n",
    "        MAX_DIST_PER_MOVE = get_max_move(self.filename)\n",
    "        self.CENTER = LEN_FILE * MAX_DIST_PER_MOVE\n",
    "        self.sparse_map = sparse.dok_array((2 * self.CENTER + 1, 2* self.CENTER + 1))\n",
    "        self.sparse_map[self.CENTER, self.CENTER] = 1\n",
    "        return\n",
    "\n",
    "    def get_number_of_visited_positions(self) -> int:\n",
    "        return self.sparse_map.count_nonzero()\n",
    "\n",
    "    def update_visited_position(self, verbose : bool = False) -> None:\n",
    "        # update visited position matrix with current position of last knot\n",
    "        print(f\"Shape sparse_map : {self.sparse_map.shape} / Last Knot state : {self.knots[-1]}\") if verbose else None\n",
    "        self.sparse_map[self.CENTER + self.knots[-1][0], self.CENTER + self.knots[-1][1]] = 1\n",
    "        return\n",
    "\n",
    "    def follow_tail(self, idx_tail : int = 1, verbose : bool = False) -> None:\n",
    "        idx_head = idx_tail - 1\n",
    "        pos_diff = self.knots[idx_head] - self.knots[idx_tail]\n",
    "        assert not(np.any(pos_diff >= 3) or np.any(pos_diff <= -3)), f\"Pos_diff = {pos_diff} / Head = {self.knots[idx_head]} / Tail = {self.knots[idx_tail]}\"\n",
    "        if np.all(pos_diff <= 1) and np.all(pos_diff >= -1):\n",
    "            return # max. 1 step in each row/column -> nothing to do\n",
    "        else: # change of position == sign(head - tail difference)\n",
    "            idx_change = np.sign(pos_diff)\n",
    "        print(f\"Position difference: {pos_diff} / Knot {idx_tail} before: {self.knots[idx_tail]}\") if verbose else None\n",
    "        self.knots[idx_tail] += idx_change\n",
    "        print(f\"Knot {idx_tail} after: {self.knots[idx_tail]}\") if verbose else None\n",
    "        return\n",
    "\n",
    "    def move_head(self, direction : str, verbose : bool = False) -> None:\n",
    "        # directions: L -> [-1,0] / R -> [1,0] / D -> [0,-1] / U -> [0,1]\n",
    "        if direction == 'L':\n",
    "            idx_change = np.array([-1,0])\n",
    "        elif direction == 'R':\n",
    "            idx_change = np.array([1,0])\n",
    "        elif direction == 'U':\n",
    "            idx_change = np.array([0,1])\n",
    "        elif direction == 'D':\n",
    "            idx_change = np.array([0,-1])\n",
    "        else:\n",
    "            ValueError\n",
    "        print(f\"Idx_change : {idx_change} / Head before : {self.knots[0]}\") if verbose else None\n",
    "        self.knots[0] += idx_change\n",
    "        print(f\"Head after : {self.knots[0]}\") if verbose else None\n",
    "        return\n",
    "\n",
    "    def parse_motion(self, line : str, verbose : bool = False) -> None:\n",
    "        # parse motion, then execute it step for step for head, then follow motion with tail\n",
    "        direction = line[0]\n",
    "        distance = int(line[2:])\n",
    "        print(f\"{distance} steps in direction {direction}\") if verbose else None\n",
    "        for i in range(distance):\n",
    "            self.move_head(direction, verbose)\n",
    "            for idx in range(1, self.n_knots):\n",
    "                print(f\"Let Knot {idx} follow...\") if verbose else None\n",
    "                self.follow_tail(idx, verbose)\n",
    "            self.update_visited_position(verbose)\n",
    "        return"
   ]
  },
  {
   "cell_type": "code",
   "execution_count": 84,
   "metadata": {},
   "outputs": [
    {
     "name": "stdout",
     "output_type": "stream",
     "text": [
      "get_max_move() works... output = 5\n"
     ]
    }
   ],
   "source": [
    "def test_get_max_move():\n",
    "    result = get_max_move(\"test_input.txt\")\n",
    "    assert result == 5, f\"get_max_move() faulty... output = {result}\"\n",
    "    print(f\"get_max_move() works... output = {result}\")\n",
    "    return\n",
    "test_get_max_move()\n"
   ]
  },
  {
   "cell_type": "code",
   "execution_count": 103,
   "metadata": {},
   "outputs": [
    {
     "name": "stdout",
     "output_type": "stream",
     "text": [
      "Nonzero indices: (array([40], dtype=int32), array([40], dtype=int32))\n",
      "Successfully initialized sparse map.\n",
      "Successfully initialized rope instance.\n",
      "Part A works for test file, moving on to whole input...\n",
      "Nonzero indices: (array([38000], dtype=int32), array([38000], dtype=int32))\n",
      "Successfully initialized sparse map.\n",
      "Successfully initialized rope instance.\n",
      "Answer: 6236\n"
     ]
    }
   ],
   "source": [
    "def compute_partA(filename : str, verbose : bool = False):\n",
    "    rope = Rope(filename, verbose = True)\n",
    "    lines = lib.read_file(filename)\n",
    "    for line in lines:\n",
    "        rope.parse_motion(line, verbose)\n",
    "    return rope.get_number_of_visited_positions()\n",
    "\n",
    "def solve_partA():\n",
    "    result = compute_partA(\"test_input.txt\", False)\n",
    "    assert result == 13, f\"Part A faulty on test file... output = {result}\"\n",
    "    print(\"Part A works for test file, moving on to whole input...\")\n",
    "    result = compute_partA(\"input.txt\", False)\n",
    "    print(f\"Answer: {result}\")\n",
    "    return\n",
    "\n",
    "solve_partA()"
   ]
  },
  {
   "cell_type": "markdown",
   "metadata": {},
   "source": [
    "## Solution Part B"
   ]
  },
  {
   "cell_type": "code",
   "execution_count": 104,
   "metadata": {},
   "outputs": [
    {
     "name": "stdout",
     "output_type": "stream",
     "text": [
      "Nonzero indices: (array([200], dtype=int32), array([200], dtype=int32))\n",
      "Successfully initialized sparse map.\n",
      "Successfully initialized rope instance.\n",
      "Part B works for test file, moving on to whole input...\n",
      "Nonzero indices: (array([38000], dtype=int32), array([38000], dtype=int32))\n",
      "Successfully initialized sparse map.\n",
      "Successfully initialized rope instance.\n",
      "Answer: 2449\n"
     ]
    }
   ],
   "source": [
    "def compute_partB(filename : str, verbose : bool = False):\n",
    "    rope = Rope(filename, n_knots = 10, verbose = True)\n",
    "    lines = lib.read_file(filename)\n",
    "    for line in lines:\n",
    "        rope.parse_motion(line, verbose)\n",
    "    return rope.get_number_of_visited_positions()\n",
    "\n",
    "def solve_partB():\n",
    "    result = compute_partB(\"test_input2.txt\", False)\n",
    "    assert result == 36, f\"Part B faulty on test file... output = {result}\"\n",
    "    print(\"Part B works for test file, moving on to whole input...\")\n",
    "    result = compute_partB(\"input.txt\", False)\n",
    "    print(f\"Answer: {result}\")\n",
    "    return\n",
    "\n",
    "solve_partB()"
   ]
  }
 ],
 "metadata": {
  "kernelspec": {
   "display_name": "Python 3.11.0 ('.venv-aoc': venv)",
   "language": "python",
   "name": "python3"
  },
  "language_info": {
   "codemirror_mode": {
    "name": "ipython",
    "version": 3
   },
   "file_extension": ".py",
   "mimetype": "text/x-python",
   "name": "python",
   "nbconvert_exporter": "python",
   "pygments_lexer": "ipython3",
   "version": "3.11.0"
  },
  "orig_nbformat": 4,
  "vscode": {
   "interpreter": {
    "hash": "ef9b0263cc57ba0721637a3ca3550c3d5851fce86bac14c6061ac109ebcdb11c"
   }
  }
 },
 "nbformat": 4,
 "nbformat_minor": 2
}
