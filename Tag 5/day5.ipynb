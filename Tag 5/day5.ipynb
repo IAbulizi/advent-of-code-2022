{
 "cells": [
  {
   "cell_type": "markdown",
   "metadata": {},
   "source": [
    "Summary of Description:\n",
    "- Supplies stored in marked crates, that are buried under crates -> rearrangement required\n",
    "- ship has cargo crane to rearrange with fixed rearrangement order\n",
    "- Input: starting stacks + rearrangement procedure\n",
    "- Note: moving once at a time -> stack/pop\n",
    "\n",
    "Problem:\n",
    "- Output: which crate ends on top of each stack\n",
    "\n",
    "Outline Idea:\n",
    "- use stacks, do some popsicles\n",
    "- function calls to parse line and process a given input"
   ]
  },
  {
   "cell_type": "code",
   "execution_count": 40,
   "metadata": {},
   "outputs": [],
   "source": [
    "import sys\n",
    "sys.path.append(\"..\")\n",
    "import lib\n",
    "import re\n",
    "import numpy as np"
   ]
  },
  {
   "cell_type": "code",
   "execution_count": 143,
   "metadata": {},
   "outputs": [],
   "source": [
    "def parse_stack_line(line_array):\n",
    "    craters = []\n",
    "    for crater in line_array:\n",
    "        if crater == 20:\n",
    "            return craters\n",
    "        else:\n",
    "            craters.append(chr(crater))\n",
    "    return craters\n",
    "\n",
    "def parse_starting_stack(starting_stack):\n",
    "    # split into stacks and numbers\n",
    "    stacks, enumerators = re.split(r\"\\n(?=\\s*\\d)\", starting_stack)\n",
    "\n",
    "    # read number of stacks\n",
    "    regex = re.compile(r\"(\\d+)\\s*$\") # capture last number\n",
    "    n_stacks = int(regex.findall(enumerators)[0])\n",
    "    print(f\"n_stacks = {n_stacks}\")\n",
    "\n",
    "    # read matrix of stacks\n",
    "    regex = re.compile(r\"\\s(\\s)\\s(?=$|\\s{1}\\[|\\s{5}\\[|\\s{9}\\[|\\s{13}\\[|\\s{17}\\[)|\\[([A-Z])\\]\") # match all 3x whitespace or [A] and capture their middle\n",
    "    content = regex.findall(stacks)\n",
    "    content = np.array(content)[:,1] # only the captured group\n",
    "    converter = lambda x: 20 if x == '' else ord(x)\n",
    "    content = np.array(list(map(converter, content)))\n",
    "    content = content.reshape((-1, n_stacks)) # get in shape\n",
    "    content = np.flipud(content) # flip to get correct order for transpose\n",
    "    content = content.T # now each line contains a stack in ASCII-numbering\n",
    "\n",
    "    # parse down to obtain stacks\n",
    "    stacks = [parse_stack_line(line_array) for line_array in content] # parse each line\n",
    "    return stacks\n",
    "\n",
    "def parse_moves(moving_order):\n",
    "    regex = re.compile(r\"move\\s(\\d+)\\sfrom\\s(\\d+)\\sto\\s(\\d+)\")\n",
    "    content = regex.findall(moving_order)\n",
    "    content = np.array(content).flatten()\n",
    "    content = np.array(list(map(int, content))) # convert to integers\n",
    "    content = content.reshape((-1,3)) # each line has 3 numbers indicating move\n",
    "    return content\n",
    "\n",
    "def get_stack_and_moves(filename, verbose = False):\n",
    "    with open(filename) as file:\n",
    "        lines = file.read()\n",
    "\n",
    "    # split stack and moves apart\n",
    "    starting_stacks, moving_order = re.split(r\"\\n{2}\", lines)\n",
    "    starting_stacks = parse_starting_stack(starting_stacks)\n",
    "    moving_order = parse_moves(moving_order)\n",
    "    if verbose:\n",
    "        print(f\"Starting stack (n = {len(starting_stacks)}):\\n{starting_stacks}\")\n",
    "        print(f\"Moving order (m = {len(moving_order)}):\\n{moving_order}\")\n",
    "\n",
    "    print(f\"Parsing successful.\")\n",
    "\n",
    "    # now read moves\n",
    "    return starting_stacks, moving_order\n",
    "\n",
    "def process_stacks_cratemover9000(stacks, moving_order):\n",
    "    for move in moving_order:\n",
    "        n_repeats, source, goal = move\n",
    "        source -= 1\n",
    "        goal -= 1\n",
    "        for i in range(n_repeats): # repeat move[0] times to move from stack move[1] to move[2]\n",
    "            stacks[goal].append(stacks[source].pop())\n",
    "    return stacks\n",
    "\n",
    "def process_stacks_cratemover9001(stacks, moving_order):\n",
    "    extra_stack = [] # as I'm lazy, repeat push/pop procedure twice via extra_stack to replicate stackmover 9001 behaviour\n",
    "    for move in moving_order:\n",
    "        n_repeats, source, goal = move\n",
    "        source -= 1\n",
    "        goal -= 1\n",
    "        for i in range(n_repeats): \n",
    "            extra_stack.append(stacks[source].pop())\n",
    "        for i in range(n_repeats):\n",
    "            stacks[goal].append(extra_stack.pop())\n",
    "    return stacks"
   ]
  },
  {
   "cell_type": "code",
   "execution_count": 140,
   "metadata": {},
   "outputs": [
    {
     "name": "stdout",
     "output_type": "stream",
     "text": [
      "n_stacks = 3\n",
      "Starting stack (n = 3):\n",
      "[['Z', 'N'], ['M', 'C', 'D'], ['P']]\n",
      "Moving order (m = 4):\n",
      "[[1 2 1]\n",
      " [3 1 3]\n",
      " [2 2 1]\n",
      " [1 1 2]]\n",
      "Parsing successful.\n",
      "[['C'], ['M'], ['P', 'D', 'N', 'Z']]\n"
     ]
    }
   ],
   "source": [
    "stacks, moves = get_stack_and_moves(\"test_input.txt\", True)\n",
    "result = process_stacks_cratemover9000(stacks, moves)\n",
    "print(result)"
   ]
  },
  {
   "cell_type": "code",
   "execution_count": 142,
   "metadata": {},
   "outputs": [
    {
     "name": "stdout",
     "output_type": "stream",
     "text": [
      "n_stacks = 9\n",
      "Parsing successful.\n",
      "[['P', 'L'], ['S', 'G', 'B', 'H', 'B', 'F', 'V', 'Z', 'D', 'R', 'B', 'W', 'J'], ['J', 'C', 'P', 'P', 'B', 'N', 'R', 'L', 'S'], ['C', 'F', 'V'], ['R', 'S', 'D', 'L'], ['T', 'T'], ['J', 'W'], ['J', 'T', 'V', 'C', 'D', 'B', 'M', 'R', 'N', 'W', 'P', 'H', 'B', 'B', 'T', 'R', 'P', 'Q'], ['N', 'P', 'M']]\n"
     ]
    }
   ],
   "source": [
    "stacks, moves = get_stack_and_moves(\"input.txt\")\n",
    "result = process_stacks_cratemover9000(stacks, moves)\n",
    "print(result)"
   ]
  },
  {
   "cell_type": "markdown",
   "metadata": {},
   "source": [
    "Part A Result: L, J, S, V, L, T, W, Q, M"
   ]
  },
  {
   "cell_type": "code",
   "execution_count": 144,
   "metadata": {},
   "outputs": [
    {
     "name": "stdout",
     "output_type": "stream",
     "text": [
      "n_stacks = 3\n",
      "Starting stack (n = 3):\n",
      "[['Z', 'N'], ['M', 'C', 'D'], ['P']]\n",
      "Moving order (m = 4):\n",
      "[[1 2 1]\n",
      " [3 1 3]\n",
      " [2 2 1]\n",
      " [1 1 2]]\n",
      "Parsing successful.\n",
      "[['M'], ['C'], ['P', 'Z', 'N', 'D']]\n"
     ]
    }
   ],
   "source": [
    "stacks, moves = get_stack_and_moves(\"test_input.txt\", True)\n",
    "result = process_stacks_cratemover9001(stacks, moves)\n",
    "print(result)"
   ]
  },
  {
   "cell_type": "code",
   "execution_count": 145,
   "metadata": {},
   "outputs": [
    {
     "name": "stdout",
     "output_type": "stream",
     "text": [
      "n_stacks = 9\n",
      "Parsing successful.\n",
      "[['P', 'B'], ['T', 'Z', 'L', 'P', 'M', 'S', 'L', 'T', 'S', 'B', 'G', 'W', 'R'], ['R', 'H', 'B', 'L', 'C', 'T', 'J', 'H', 'Q'], ['N', 'R', 'W'], ['N', 'W', 'J', 'D'], ['R', 'B'], ['F', 'B'], ['V', 'P', 'T', 'C', 'J', 'D', 'B', 'V', 'C', 'S', 'P', 'R', 'N', 'V', 'F', 'B', 'D', 'J'], ['P', 'P', 'M']]\n"
     ]
    }
   ],
   "source": [
    "stacks, moves = get_stack_and_moves(\"input.txt\")\n",
    "result = process_stacks_cratemover9001(stacks, moves)\n",
    "print(result)"
   ]
  },
  {
   "cell_type": "markdown",
   "metadata": {},
   "source": [
    "Part B Result: BRQWDBBJM"
   ]
  }
 ],
 "metadata": {
  "kernelspec": {
   "display_name": "Python 3.11.0 ('.venv-aoc': venv)",
   "language": "python",
   "name": "python3"
  },
  "language_info": {
   "codemirror_mode": {
    "name": "ipython",
    "version": 3
   },
   "file_extension": ".py",
   "mimetype": "text/x-python",
   "name": "python",
   "nbconvert_exporter": "python",
   "pygments_lexer": "ipython3",
   "version": "3.11.0"
  },
  "orig_nbformat": 4,
  "vscode": {
   "interpreter": {
    "hash": "ef9b0263cc57ba0721637a3ca3550c3d5851fce86bac14c6061ac109ebcdb11c"
   }
  }
 },
 "nbformat": 4,
 "nbformat_minor": 2
}
