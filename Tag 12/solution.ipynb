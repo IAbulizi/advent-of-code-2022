{
 "cells": [
  {
   "cell_type": "code",
   "execution_count": 1,
   "metadata": {},
   "outputs": [],
   "source": [
    "import sys\n",
    "sys.path.append(\"..\")\n",
    "import lib\n",
    "import numpy as np\n",
    "import igraph as ig\n",
    "from tqdm import tqdm"
   ]
  },
  {
   "cell_type": "markdown",
   "metadata": {},
   "source": [
    "Task Description\n",
    "- Input:\n",
    "    - a-z for lowest to highest evelation\n",
    "    - S for start (evelation a), E for optimal position (evelation z)\n",
    "- Goal: reach E, saving energy\n",
    "    - as few steps as possible\n",
    "    - each step: move !1 square u/d/l/r -> at most one higher than current evelation (but much lower admitted)"
   ]
  },
  {
   "cell_type": "code",
   "execution_count": 2,
   "metadata": {},
   "outputs": [
    {
     "name": "stdout",
     "output_type": "stream",
     "text": [
      "97\n",
      "122\n",
      "83\n",
      "69\n"
     ]
    }
   ],
   "source": [
    "print(ord('a'))\n",
    "print(ord('z'))\n",
    "print(ord('S'))\n",
    "print(ord('E'))"
   ]
  },
  {
   "cell_type": "code",
   "execution_count": 3,
   "metadata": {},
   "outputs": [],
   "source": [
    "def are_neighbours(v_a, v_b, verbose = False) -> bool:\n",
    "    a_idx = np.array([v_a[\"row\"], v_a[\"col\"]])\n",
    "    b_idx = np.array([v_b[\"row\"], v_b[\"col\"]])\n",
    "    if np.linalg.norm(a_idx - b_idx, ord = 1) == 1: # Manhattan distance\n",
    "        return True\n",
    "    else:\n",
    "        return False\n",
    "\n",
    "def admits_edge(vertex, vertex_other, verbose = False):\n",
    "    # check if there is an edge from vertex to vertex_other\n",
    "    if vertex_other[\"height\"] - vertex[\"height\"] <= 1: # max. 1 higher or just lower\n",
    "        return True\n",
    "    else:\n",
    "        return False\n",
    "\n",
    "def get_SE_indices(graph, idx_S, idx_E, verbose = False):\n",
    "    graph_index_S = None\n",
    "    graph_index_E = None\n",
    "\n",
    "    for v in graph.vs:\n",
    "        if v[\"row\"] == idx_S[0] and v[\"col\"] == idx_S[1]:\n",
    "            graph_index_S = v.index\n",
    "        if v[\"row\"] == idx_E[0] and v[\"col\"] == idx_E[1]:\n",
    "            graph_index_E = v.index\n",
    "    print(f\"Found S, E indices\") if verbose else None\n",
    "    return graph_index_S, graph_index_E\n",
    "\n",
    "def parse_edges(graph, verbose = False): #-> ig.Graph:\n",
    "    # go through each vertex\n",
    "        # check against each vertex if next to it\n",
    "            # if yes, check if edge condition satisfied\n",
    "                # if yes, add edge, else None\n",
    "    edges = []\n",
    "    print(\"Starting to parse edges...\") if verbose else None\n",
    "    for vertex in tqdm(graph.vs):\n",
    "        for vertex_other in graph.vs:\n",
    "            if are_neighbours(vertex, vertex_other) and admits_edge(vertex, vertex_other):\n",
    "                edges.append((vertex.index, vertex_other.index))\n",
    "    graph.add_edges(edges)\n",
    "    print(\"Finished parsing edges...\") if verbose else None\n",
    "    return graph\n",
    "\n",
    "def parse_input(filename : str, verbose : bool = False) -> np.array:\n",
    "    input = lib.read_file_as_one(filename)\n",
    "    n_rows = input.count(\"\\n\") + 1\n",
    "    input = input.replace(\"\\n\", \"\")\n",
    "    n_vertices = len(input)\n",
    "    n_cols = n_vertices // n_rows\n",
    "    input = np.array([ord(letter) for letter in input]).reshape((n_rows, -1))\n",
    "    \n",
    "    idx_S = np.argwhere(input == ord('S'))[0]\n",
    "    idx_E = np.argwhere(input == ord('E'))[0]\n",
    "    input[idx_S[0], idx_S[1]] = ord('a')\n",
    "    input[idx_E[0], idx_E[1]] = ord('z')\n",
    "    input = input - ord('a') + 1\n",
    "\n",
    "    # read into graph class\n",
    "    vertices_id = [(i,j) for i in range(n_rows) for j in range(n_cols)]\n",
    "    vertices_row = [i for i in range(n_rows) for j in range(n_cols)]\n",
    "    vertices_col = [j for i in range(n_rows) for j in range(n_cols)]\n",
    "    vertices_height = [input[i,j] for i in range(n_rows) for j in range(n_cols)]\n",
    "    graph = ig.Graph(n = n_rows * n_cols, directed = True)\n",
    "    graph.vs[\"id\"] = vertices_id\n",
    "    graph.vs[\"row\"] = vertices_row\n",
    "    graph.vs[\"col\"] = vertices_col\n",
    "    graph.vs[\"height\"] = vertices_height\n",
    "\n",
    "    print(f\"Input matrix:\\n{input}\\n\") if verbose else None\n",
    "\n",
    "    graph = parse_edges(graph, verbose = verbose)\n",
    "    #print(f\"Graph:\\n{graph}\\n\") if verbose else None\n",
    "    idx_S, idx_E = get_SE_indices(graph, idx_S, idx_E, verbose)\n",
    "\n",
    "    return graph, idx_S, idx_E"
   ]
  },
  {
   "cell_type": "markdown",
   "metadata": {},
   "source": [
    "Solution Part A"
   ]
  },
  {
   "cell_type": "code",
   "execution_count": 4,
   "metadata": {},
   "outputs": [
    {
     "name": "stderr",
     "output_type": "stream",
     "text": [
      "100%|██████████| 40/40 [00:00<00:00, 3109.08it/s]\n"
     ]
    },
    {
     "name": "stdout",
     "output_type": "stream",
     "text": [
      "Parsed completely, starting to solve...\n",
      "Part A works for test file, moving on to whole input...\n"
     ]
    },
    {
     "name": "stderr",
     "output_type": "stream",
     "text": [
      "100%|██████████| 7011/7011 [05:31<00:00, 21.13it/s]"
     ]
    },
    {
     "name": "stdout",
     "output_type": "stream",
     "text": [
      "Parsed completely, starting to solve...\n",
      "Answer: 520\n"
     ]
    },
    {
     "name": "stderr",
     "output_type": "stream",
     "text": [
      "\n"
     ]
    }
   ],
   "source": [
    "def compute_partA(filename : str, verbose : bool = False):\n",
    "    # read file\n",
    "    graph, idx_S, idx_E = parse_input(filename)\n",
    "    print(f\"Parsed completely, starting to solve...\")\n",
    "    result = graph.distances(source = [idx_S], target = [idx_E])\n",
    "    # compute solution\n",
    "    return result[0][0]\n",
    "\n",
    "def solve_partA():\n",
    "    result = compute_partA(\"test_input.txt\", False)\n",
    "    true_result = 31\n",
    "    assert result == true_result, f\"Part A faulty on test file... output = {result}\"\n",
    "    print(\"Part A works for test file, moving on to whole input...\")\n",
    "    result = compute_partA(\"input.txt\", False)\n",
    "    print(f\"Answer: {result}\")\n",
    "    return\n",
    "\n",
    "solve_partA()"
   ]
  },
  {
   "cell_type": "markdown",
   "metadata": {},
   "source": [
    "Solution Part B"
   ]
  },
  {
   "cell_type": "code",
   "execution_count": 7,
   "metadata": {},
   "outputs": [
    {
     "name": "stderr",
     "output_type": "stream",
     "text": [
      "100%|██████████| 40/40 [00:00<00:00, 2112.15it/s]\n"
     ]
    },
    {
     "name": "stdout",
     "output_type": "stream",
     "text": [
      "Parsed completely, starting to solve...\n",
      "Distances: [31 30 30 31 30 29]\n",
      "Part B works for test file, moving on to whole input...\n"
     ]
    },
    {
     "name": "stderr",
     "output_type": "stream",
     "text": [
      "100%|██████████| 7011/7011 [05:34<00:00, 20.96it/s]"
     ]
    },
    {
     "name": "stdout",
     "output_type": "stream",
     "text": [
      "Parsed completely, starting to solve...\n",
      "Distances: [514.  inf  inf ...  inf  inf  inf]\n",
      "Answer: 508.0\n"
     ]
    },
    {
     "name": "stderr",
     "output_type": "stream",
     "text": [
      "\n"
     ]
    }
   ],
   "source": [
    "def get_admissible_starts(graph : ig.Graph) -> list:\n",
    "    admissibles = []\n",
    "    for v in graph.vs:\n",
    "        if v[\"height\"] == 1:\n",
    "            admissibles.append(v.index)\n",
    "    return admissibles\n",
    "\n",
    "\n",
    "def compute_partB(filename : str, verbose : bool = False):\n",
    "    # read file\n",
    "    graph, idx_S, idx_E = parse_input(filename)\n",
    "    print(f\"Parsed completely, starting to solve...\")\n",
    "    # find admissible set of sources\n",
    "    admissibles = get_admissible_starts(graph)\n",
    "    result = graph.distances(source = admissibles, target = [idx_E])\n",
    "    result = np.array(result).flatten()\n",
    "    print(f\"Distances: {result}\")\n",
    "    return min(result)\n",
    "\n",
    "def solve_partB():\n",
    "    result = compute_partB(\"test_input.txt\", True)\n",
    "    true_result = 29\n",
    "    assert result == true_result, f\"Part B faulty on test file... output = {result}\"\n",
    "    print(\"Part B works for test file, moving on to whole input...\")\n",
    "    result = compute_partB(\"input.txt\", False)\n",
    "    print(f\"Answer: {result}\")\n",
    "    return\n",
    "\n",
    "solve_partB()"
   ]
  }
 ],
 "metadata": {
  "kernelspec": {
   "display_name": "Python 3.11.0 ('.venv-aoc': venv)",
   "language": "python",
   "name": "python3"
  },
  "language_info": {
   "codemirror_mode": {
    "name": "ipython",
    "version": 3
   },
   "file_extension": ".py",
   "mimetype": "text/x-python",
   "name": "python",
   "nbconvert_exporter": "python",
   "pygments_lexer": "ipython3",
   "version": "3.11.0"
  },
  "orig_nbformat": 4,
  "vscode": {
   "interpreter": {
    "hash": "ef9b0263cc57ba0721637a3ca3550c3d5851fce86bac14c6061ac109ebcdb11c"
   }
  }
 },
 "nbformat": 4,
 "nbformat_minor": 2
}
