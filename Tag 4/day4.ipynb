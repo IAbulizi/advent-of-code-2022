{
 "cells": [
  {
   "cell_type": "markdown",
   "metadata": {},
   "source": [
    "Outline Description:\n",
    "- each section has unique ID number, each elf is assigned range of section IDs\n",
    "- assignments overlap -> Input: each line corresponds to section assignments for each pair\n",
    "- some of the pairs fully contain eachother\n",
    "\n",
    "Problem\n",
    "- count in how many assignment pairs one range fully contains the other\n",
    "\n",
    "What shall we do with the drunken elves?\n",
    "- Input procedure -> read each line into two interval objects"
   ]
  },
  {
   "cell_type": "code",
   "execution_count": null,
   "metadata": {},
   "outputs": [],
   "source": [
    "import intervals as I\n",
    "import numpy as np\n",
    "import sys\n",
    "sys.path.append(\"..\")\n",
    "import lib\n",
    "import re"
   ]
  },
  {
   "cell_type": "code",
   "execution_count": null,
   "metadata": {},
   "outputs": [],
   "source": [
    "splitter = re.compile(r\"^(\\d+)-(\\d+),(\\d+)-(\\d+)\")\n",
    "\n",
    "def parse_line(line):\n",
    "    regex_result = splitter.findall(line)[0]\n",
    "    assert len(regex_result) == 4\n",
    "    a_left, a_right, b_left, b_right = regex_result\n",
    "    return I.closed(int(a_left), int(a_right)), I.closed(int(b_left), int(b_right))\n",
    "\n",
    "def get_pairs_from_lines(lines):\n",
    "    pairs = []\n",
    "    for line in lines:\n",
    "        interval_1, interval_2 = parse_line(line)\n",
    "        pairs.append((interval_1, interval_2))\n",
    "    return pairs"
   ]
  },
  {
   "cell_type": "code",
   "execution_count": null,
   "metadata": {},
   "outputs": [],
   "source": [
    "lines = lib.read_file(\"input.txt\")\n",
    "pairs = get_pairs_from_lines(lines)\n",
    "n_contained = 0\n",
    "for pair in pairs:\n",
    "    if pair[0] in pair[1] or pair[1] in pair[0]:\n",
    "        n_contained += 1\n",
    "print(n_contained)"
   ]
  },
  {
   "cell_type": "markdown",
   "metadata": {},
   "source": [
    "Problem in Part B:\n",
    "- interested in number of pairs overlapping at all"
   ]
  },
  {
   "cell_type": "code",
   "execution_count": null,
   "metadata": {},
   "outputs": [],
   "source": [
    "lines = lib.read_file(\"input.txt\")\n",
    "pairs = get_pairs_from_lines(lines)\n",
    "n_contained = 0\n",
    "for pair in pairs:\n",
    "    if pair[0].overlaps(pair[1]):\n",
    "        n_contained += 1\n",
    "print(n_contained)"
   ]
  }
 ],
 "metadata": {
  "kernelspec": {
   "display_name": "Python 3.11.0 ('.venv-aoc': venv)",
   "language": "python",
   "name": "python3"
  },
  "language_info": {
   "codemirror_mode": {
    "name": "ipython",
    "version": 3
   },
   "file_extension": ".py",
   "mimetype": "text/x-python",
   "name": "python",
   "nbconvert_exporter": "python",
   "pygments_lexer": "ipython3",
   "version": "3.11.0"
  },
  "orig_nbformat": 4,
  "vscode": {
   "interpreter": {
    "hash": "ef9b0263cc57ba0721637a3ca3550c3d5851fce86bac14c6061ac109ebcdb11c"
   }
  }
 },
 "nbformat": 4,
 "nbformat_minor": 2
}
