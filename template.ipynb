{
 "cells": [
  {
   "cell_type": "code",
   "execution_count": null,
   "metadata": {},
   "outputs": [],
   "source": [
    "import sys\n",
    "sys.path.append(\"..\")\n",
    "import lib"
   ]
  },
  {
   "cell_type": "markdown",
   "metadata": {},
   "source": [
    "Solution Part A"
   ]
  },
  {
   "cell_type": "code",
   "execution_count": null,
   "metadata": {},
   "outputs": [],
   "source": [
    "def compute_partA(filename : str, verbose : bool = False):\n",
    "    # read file\n",
    "    # comput solution\n",
    "    return\n",
    "\n",
    "def solve_partA():\n",
    "    result = compute_partA(\"test_input.txt\", True)\n",
    "    true_solution = None\n",
    "    assert result == true_result, f\"Part A faulty on test file... output = {result}\"\n",
    "    print(\"Part A works for test file, moving on to whole input...\")\n",
    "    result = compute_partA(\"input.txt\", False)\n",
    "    print(f\"Answer: {result}\")\n",
    "    return\n",
    "\n",
    "solve_partA()"
   ]
  },
  {
   "cell_type": "markdown",
   "metadata": {},
   "source": [
    "Solution Part B"
   ]
  },
  {
   "cell_type": "code",
   "execution_count": null,
   "metadata": {},
   "outputs": [],
   "source": [
    "def compute_partB(filename : str, verbose : bool = False):\n",
    "    # read file\n",
    "    # comput solution\n",
    "    return\n",
    "\n",
    "def solve_partB():\n",
    "    result = compute_partB(\"test_input.txt\", True)\n",
    "    true_solution = None\n",
    "    assert result == true_result, f\"Part B faulty on test file... output = {result}\"\n",
    "    print(\"Part B works for test file, moving on to whole input...\")\n",
    "    result = compute_partB(\"input.txt\", False)\n",
    "    print(f\"Answer: {result}\")\n",
    "    return\n",
    "\n",
    "solve_partB()"
   ]
  }
 ],
 "metadata": {
  "kernelspec": {
   "display_name": "Python 3.11.0 ('.venv-aoc': venv)",
   "language": "python",
   "name": "python3"
  },
  "language_info": {
   "name": "python",
   "version": "3.11.0"
  },
  "orig_nbformat": 4,
  "vscode": {
   "interpreter": {
    "hash": "ef9b0263cc57ba0721637a3ca3550c3d5851fce86bac14c6061ac109ebcdb11c"
   }
  }
 },
 "nbformat": 4,
 "nbformat_minor": 2
}
