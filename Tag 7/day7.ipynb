{
 "cells": [
  {
   "cell_type": "markdown",
   "metadata": {},
   "source": [
    "Problem Part 1:\n",
    "- Find all directories with size at most 100.000\n",
    "- Add up their sizes"
   ]
  },
  {
   "cell_type": "code",
   "execution_count": 69,
   "metadata": {},
   "outputs": [],
   "source": [
    "import sys\n",
    "sys.path.append(\"..\")\n",
    "import lib\n",
    "from anytree import Node, RenderTree, AnyNode\n",
    "import numpy as np\n",
    "import re"
   ]
  },
  {
   "cell_type": "code",
   "execution_count": 102,
   "metadata": {},
   "outputs": [],
   "source": [
    "def get_child(node : Node, child_name : str, verbose : bool = False):\n",
    "    children = node.children\n",
    "    names = []\n",
    "    for child in children:\n",
    "        names.append(child.name)\n",
    "    if verbose:\n",
    "        print(f\"List of children: {names}\")\n",
    "    idx_child = names.index(child_name)\n",
    "    child = node.children[idx_child]\n",
    "    return child\n",
    "\n",
    "def get_idx_of_next_command(lines: str):\n",
    "    i = 1 # because search starts at next line\n",
    "    try:\n",
    "        while lines[i][0] != \"$\":\n",
    "            i += 1\n",
    "    except IndexError:\n",
    "        i = -1\n",
    "    return i\n",
    "\n",
    "def parse_children(lines: str, verbose : bool = False):\n",
    "    if verbose:\n",
    "        print(f\"Parsing children... input ... \\n {lines}\")\n",
    "    nodes = []\n",
    "    for line in lines[1:]:\n",
    "        if verbose:\n",
    "            print(f\"Process line: {line}\")\n",
    "        if line[:3] == \"dir\":\n",
    "            nodes.append(Node(line[4:]))\n",
    "        else: # parse file size first\n",
    "            file_size, file_name = re.split(\"\\s\", line)\n",
    "            new_node = AnyNode(name = file_name, size = file_size)\n",
    "            nodes.append(new_node)\n",
    "    return nodes\n",
    "\n",
    "def parse_directory(input: str, verbose : bool = False):\n",
    "    root = Node(\"root\")\n",
    "    n_lines = len(input)\n",
    "    idx_iter = 1 # start from 2nd line for easier parsing\n",
    "    \n",
    "    # points to current node\n",
    "    tracker = root\n",
    "    if verbose:\n",
    "        print(f\"Start parsing, n_lines = {n_lines}...\")\n",
    "    while idx_iter < n_lines:\n",
    "        line = input[idx_iter]\n",
    "        if verbose:\n",
    "            print(f\"Line: {line}\")\n",
    "        assert line[:4] == \"$ cd\" or line[:4] == \"$ ls\", line\n",
    "        if line[:4] == \"$ cd\": # change directory\n",
    "            if line[5:] == \"..\": # go back\n",
    "                if verbose:\n",
    "                    print(f\"Going back...\")\n",
    "                tracker = tracker.parent\n",
    "            else:\n",
    "                chdirto = line[5:]\n",
    "                if verbose:\n",
    "                    print(f\"New dir: {chdirto}\")\n",
    "                tracker = get_child(tracker, chdirto)\n",
    "            idx_iter += 1\n",
    "        elif line[:4] == \"$ ls\": # create children\n",
    "            idx_iter_add = get_idx_of_next_command(input[idx_iter:])\n",
    "            if idx_iter_add == -1:\n",
    "                tracker.children = parse_children(input[idx_iter:], verbose)\n",
    "                tree = RenderTree(root)\n",
    "                return root, tree\n",
    "            else:\n",
    "                tracker.children = parse_children(input[idx_iter:idx_iter+idx_iter_add], verbose)\n",
    "                idx_iter += idx_iter_add\n",
    "                assert input[idx_iter][0] == \"$\"\n",
    "        else:\n",
    "            AssertionError\n",
    "    tree = RenderTree(root)\n",
    "    return root, tree"
   ]
  },
  {
   "cell_type": "code",
   "execution_count": 120,
   "metadata": {},
   "outputs": [],
   "source": [
    "def compute_directory_sum(node : Node, verbose = False):\n",
    "    # go through each child\n",
    "    # add file size if it has file size attribute\n",
    "    # else it's a dir -> traverse through that and call recursively\n",
    "    # return sum of file sizes\n",
    "    total_size = 0\n",
    "    cumulate_partA = 0\n",
    "    for child in node.children:\n",
    "        if verbose:\n",
    "            print(f\"Processing: \\n{child}\")\n",
    "        try:\n",
    "            size = child.size\n",
    "            size = int(size)\n",
    "        except AttributeError: #directory\n",
    "            size, cumulator = compute_directory_sum(child)\n",
    "            size = int(size)\n",
    "            cumulate_partA += cumulator # include in any case existing cumumulated sum\n",
    "            if size <= 100000: # and add current dir if it fits\n",
    "                cumulate_partA += size\n",
    "        total_size += size\n",
    "    return total_size, cumulate_partA"
   ]
  },
  {
   "cell_type": "code",
   "execution_count": 103,
   "metadata": {},
   "outputs": [
    {
     "data": {
      "text/plain": [
       "['$ cd /', '$ ls', 'dir a', '14848514 b.txt', '8504156 c.dat']"
      ]
     },
     "metadata": {},
     "output_type": "display_data"
    }
   ],
   "source": [
    "file = lib.read_file(\"test_input.txt\")\n",
    "display(file[:5])\n",
    "root, tree = parse_directory(file)"
   ]
  },
  {
   "cell_type": "code",
   "execution_count": 106,
   "metadata": {},
   "outputs": [
    {
     "name": "stdout",
     "output_type": "stream",
     "text": [
      "Node('/root')\n",
      "├── Node('/root/a')\n",
      "│   ├── Node('/root/a/e')\n",
      "│   │   └── AnyNode(name='i', size='584')\n",
      "│   ├── AnyNode(name='f', size='29116')\n",
      "│   ├── AnyNode(name='g', size='2557')\n",
      "│   └── AnyNode(name='h.lst', size='62596')\n",
      "├── AnyNode(name='b.txt', size='14848514')\n",
      "├── AnyNode(name='c.dat', size='8504156')\n",
      "└── Node('/root/d')\n",
      "    ├── AnyNode(name='j', size='4060174')\n",
      "    ├── AnyNode(name='d.log', size='8033020')\n",
      "    ├── AnyNode(name='d.ext', size='5626152')\n",
      "    └── AnyNode(name='k', size='7214296')\n"
     ]
    }
   ],
   "source": [
    "print(tree)"
   ]
  },
  {
   "cell_type": "code",
   "execution_count": 121,
   "metadata": {},
   "outputs": [
    {
     "data": {
      "text/plain": [
       "(48381165, 95437)"
      ]
     },
     "execution_count": 121,
     "metadata": {},
     "output_type": "execute_result"
    }
   ],
   "source": [
    "compute_directory_sum(root)"
   ]
  },
  {
   "cell_type": "code",
   "execution_count": 122,
   "metadata": {},
   "outputs": [
    {
     "data": {
      "text/plain": [
       "['$ cd /', '$ ls', 'dir bsnqsfm', 'dir dtqvbspj', 'dir hhhtrws']"
      ]
     },
     "metadata": {},
     "output_type": "display_data"
    },
    {
     "data": {
      "text/plain": [
       "(42476859, 1517599)"
      ]
     },
     "execution_count": 122,
     "metadata": {},
     "output_type": "execute_result"
    }
   ],
   "source": [
    "file = lib.read_file(\"input.txt\")\n",
    "display(file[:5])\n",
    "root, tree = parse_directory(file)\n",
    "compute_directory_sum(root)"
   ]
  }
 ],
 "metadata": {
  "kernelspec": {
   "display_name": "Python 3.11.0 ('.venv-aoc': venv)",
   "language": "python",
   "name": "python3"
  },
  "language_info": {
   "codemirror_mode": {
    "name": "ipython",
    "version": 3
   },
   "file_extension": ".py",
   "mimetype": "text/x-python",
   "name": "python",
   "nbconvert_exporter": "python",
   "pygments_lexer": "ipython3",
   "version": "3.11.0"
  },
  "orig_nbformat": 4,
  "vscode": {
   "interpreter": {
    "hash": "ef9b0263cc57ba0721637a3ca3550c3d5851fce86bac14c6061ac109ebcdb11c"
   }
  }
 },
 "nbformat": 4,
 "nbformat_minor": 2
}
