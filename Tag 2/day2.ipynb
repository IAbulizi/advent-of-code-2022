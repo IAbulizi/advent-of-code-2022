{
 "cells": [
  {
   "cell_type": "code",
   "execution_count": 1,
   "metadata": {},
   "outputs": [],
   "source": [
    "import numpy as np"
   ]
  },
  {
   "cell_type": "code",
   "execution_count": 2,
   "metadata": {},
   "outputs": [
    {
     "data": {
      "text/plain": [
       "['B Y', 'A Z', 'C Z', 'A Y', 'A Y', 'B Y', 'C Y', 'A Y', 'B Y', 'B Y']"
      ]
     },
     "metadata": {},
     "output_type": "display_data"
    }
   ],
   "source": [
    "filename = \"./input.txt\"\n",
    "with open(filename) as file:\n",
    "    lines = [line.rstrip() for line in file]\n",
    "display(lines[:10])"
   ]
  },
  {
   "cell_type": "code",
   "execution_count": null,
   "metadata": {},
   "outputs": [],
   "source": [
    "def compute_score(opponent, own):\n",
    "    score = 0\n",
    "    #Own: X Rock, Y Paper, Z Scissor\n",
    "    if own == 'X':\n",
    "        score += 1\n",
    "    elif own == 'Y':\n",
    "        score += 2\n",
    "    else:\n",
    "        assert own == 'Z'\n",
    "        score += 3\n",
    "    #Opponent: A Rock, B Paper, C Scissor\n",
    "    state = None\n",
    "    if opponent == 'Z' and own == 'X' or opponent == 'Y' and own == 'Z' or opponent == 'X' and opponent =='Y':\n",
    "        state = 1\n",
    "    elif opponent == own:\n",
    "        state = 0\n",
    "    else:\n",
    "        state = -1\n",
    "    score += (state + 1)*2\n",
    "    return score"
   ]
  },
  {
   "cell_type": "code",
   "execution_count": 5,
   "metadata": {},
   "outputs": [
    {
     "name": "stdout",
     "output_type": "stream",
     "text": [
      "Opponent: B / Own: Y\n"
     ]
    }
   ],
   "source": [
    "total_score = 0\n",
    "for line in lines:\n",
    "    opponent_action = line[0]\n",
    "    own_action = line[2]\n",
    "    single_score = compute_score(opponent_action, own_action)\n",
    "    total_score += "
   ]
  }
 ],
 "metadata": {
  "kernelspec": {
   "display_name": "Python 3.11.0 ('.venv-aoc': venv)",
   "language": "python",
   "name": "python3"
  },
  "language_info": {
   "codemirror_mode": {
    "name": "ipython",
    "version": 3
   },
   "file_extension": ".py",
   "mimetype": "text/x-python",
   "name": "python",
   "nbconvert_exporter": "python",
   "pygments_lexer": "ipython3",
   "version": "3.11.0"
  },
  "orig_nbformat": 4,
  "vscode": {
   "interpreter": {
    "hash": "ef9b0263cc57ba0721637a3ca3550c3d5851fce86bac14c6061ac109ebcdb11c"
   }
  }
 },
 "nbformat": 4,
 "nbformat_minor": 2
}
