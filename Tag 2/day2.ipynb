{
 "cells": [
  {
   "cell_type": "code",
   "execution_count": null,
   "metadata": {},
   "outputs": [],
   "source": [
    "import numpy as np"
   ]
  },
  {
   "cell_type": "code",
   "execution_count": null,
   "metadata": {},
   "outputs": [],
   "source": [
    "filename = \"./input.txt\"\n",
    "with open(filename) as file:\n",
    "    lines = [line.rstrip() for line in file]\n",
    "display(lines[:10])"
   ]
  },
  {
   "cell_type": "code",
   "execution_count": null,
   "metadata": {},
   "outputs": [],
   "source": [
    "def compute_score(opponent, own):\n",
    "    score = 0\n",
    "    #Own: X Rock, Y Paper, Z Scissor\n",
    "    if own == 'X':\n",
    "        score += 1\n",
    "    elif own == 'Y':\n",
    "        score += 2\n",
    "    else:\n",
    "        assert own == 'Z'\n",
    "        score += 3\n",
    "    #Opponent: A Rock, B Paper, C Scissor\n",
    "    state = None\n",
    "    if opponent == 'C' and own == 'X' or opponent == 'B' and own == 'Z' or opponent == 'A' and own =='Y':\n",
    "        state = 1 #win\n",
    "    elif opponent == 'A' and own == 'X' or opponent == 'B' and own == 'Y' or opponent == 'C' and own == 'Z':\n",
    "        state = 0 #tie\n",
    "    else:\n",
    "        state = -1 #lose\n",
    "    state_score = (state + 1)*3\n",
    "    score += state_score\n",
    "    return score"
   ]
  },
  {
   "cell_type": "code",
   "execution_count": null,
   "metadata": {},
   "outputs": [],
   "source": [
    "def compute_score_partb(opponent, own):\n",
    "    score = 0\n",
    "    #Own: A Rock, B Paper, C Scissor\n",
    "    if own == 'A':\n",
    "        score += 1\n",
    "    elif own == 'B':\n",
    "        score += 2\n",
    "    else:\n",
    "        assert own == 'C'\n",
    "        score += 3\n",
    "    #Opponent: A Rock, B Paper, C Scissor\n",
    "    state = None\n",
    "    if opponent == 'C' and own == 'A' or opponent == 'B' and own == 'C' or opponent == 'A' and own =='B':\n",
    "        state = 1 #win\n",
    "    elif opponent == own:\n",
    "        state = 0 #tie\n",
    "    else:\n",
    "        state = -1 #lose\n",
    "    state_score = (state + 1)*3\n",
    "    score += state_score\n",
    "    return score\n",
    "\n",
    "def compute_own_action(opponent, state_goal):\n",
    "    # given opponent action and state goal\n",
    "    # -> compute own action\n",
    "        # action: A Rock, B Paper, C Scissor\n",
    "        # state_goal: X lose, Y draw, Z win\n",
    "    assert opponent == 'A' or opponent == 'B' or opponent == 'C'\n",
    "    own = None\n",
    "    if state_goal == 'Y': # draw\n",
    "        own = opponent\n",
    "    elif state_goal == 'Z': #win\n",
    "        if opponent == 'A':\n",
    "            own = 'B'\n",
    "        elif opponent == 'B':\n",
    "            own = 'C'\n",
    "        else:\n",
    "            own = 'A'\n",
    "    else: # 'X' lose\n",
    "        if opponent == 'A':\n",
    "            own = 'C'\n",
    "        elif opponent == 'B':\n",
    "            own = 'A'\n",
    "        else:\n",
    "            own = 'B'\n",
    "    return own"
   ]
  },
  {
   "cell_type": "markdown",
   "metadata": {},
   "source": [
    "Part A"
   ]
  },
  {
   "cell_type": "code",
   "execution_count": null,
   "metadata": {},
   "outputs": [],
   "source": [
    "total_score = 0\n",
    "for line in lines:\n",
    "    opponent_action = line[0]\n",
    "    own_action = line[2]\n",
    "    single_score = compute_score(opponent_action, own_action)\n",
    "    total_score += single_score\n",
    "    #print(f\"{single_score} pts. for opp. {opponent_action} / own {own_action}\")"
   ]
  },
  {
   "cell_type": "code",
   "execution_count": null,
   "metadata": {},
   "outputs": [],
   "source": [
    "total_score"
   ]
  },
  {
   "cell_type": "markdown",
   "metadata": {},
   "source": [
    "Part B"
   ]
  },
  {
   "cell_type": "code",
   "execution_count": null,
   "metadata": {},
   "outputs": [],
   "source": [
    "total_score_partb = 0\n",
    "for line in lines:\n",
    "    opponent_action = line[0]\n",
    "    state_goal = line[2]\n",
    "    own_action = compute_own_action(opponent_action, state_goal)\n",
    "    single_score = compute_score_partb(opponent_action, own_action)\n",
    "    total_score_partb += single_score\n",
    "    #print(f\"{single_score} pts. for opp. {opponent_action} / own {own_action}\")"
   ]
  },
  {
   "cell_type": "code",
   "execution_count": null,
   "metadata": {},
   "outputs": [],
   "source": [
    "total_score_partb"
   ]
  }
 ],
 "metadata": {
  "kernelspec": {
   "display_name": "Python 3.11.0 ('.venv-aoc': venv)",
   "language": "python",
   "name": "python3"
  },
  "language_info": {
   "codemirror_mode": {
    "name": "ipython",
    "version": 3
   },
   "file_extension": ".py",
   "mimetype": "text/x-python",
   "name": "python",
   "nbconvert_exporter": "python",
   "pygments_lexer": "ipython3",
   "version": "3.11.0"
  },
  "orig_nbformat": 4,
  "vscode": {
   "interpreter": {
    "hash": "ef9b0263cc57ba0721637a3ca3550c3d5851fce86bac14c6061ac109ebcdb11c"
   }
  }
 },
 "nbformat": 4,
 "nbformat_minor": 2
}
