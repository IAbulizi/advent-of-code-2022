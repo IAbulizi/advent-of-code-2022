{
 "cells": [
  {
   "cell_type": "code",
   "execution_count": 58,
   "metadata": {},
   "outputs": [],
   "source": [
    "import sys\n",
    "sys.path.append(\"..\")\n",
    "import lib\n",
    "import re\n",
    "import json\n",
    "from functools import cmp_to_key"
   ]
  },
  {
   "cell_type": "markdown",
   "metadata": {},
   "source": [
    "Task Description\n"
   ]
  },
  {
   "cell_type": "code",
   "execution_count": 53,
   "metadata": {},
   "outputs": [],
   "source": [
    "def compare_two(a, b) -> int:\n",
    "    #print(f\"    Subcompare:\\n    a = {a}\\n    b = {b}\")\n",
    "    if type(a) is int and type(b) is int:\n",
    "        if a > b:\n",
    "            return -1\n",
    "        elif a < b:\n",
    "            return 1\n",
    "    else:\n",
    "        if type(a) is int or type(b) is int: #exactly one is int\n",
    "            if type(a) is int:\n",
    "                a = list([a])\n",
    "            else: # b is int\n",
    "                b = list([b])\n",
    "        # both are list\n",
    "        min_len = min(len(a), len(b))\n",
    "        for idx in range(min_len):\n",
    "            res_compare = compare_two(a[idx], b[idx])\n",
    "            if res_compare == -1:\n",
    "                return -1\n",
    "            elif res_compare == 1:\n",
    "                return 1\n",
    "        # if right runs out first not in correct order\n",
    "        if min_len < len(a):\n",
    "            return -1\n",
    "        # if left runs out first in correct order\n",
    "        elif min_len < len(b):\n",
    "            return 1\n",
    "    return 0\n",
    "\n",
    "class PacketPair():\n",
    "    def __init__(self, pair_of_packets):\n",
    "        self.left = pair_of_packets[0]\n",
    "        self.right = pair_of_packets[1]\n",
    "        self.size_left = len(self.left)\n",
    "        self.size_right = len(self.right)\n",
    "\n",
    "    def __repr__(self):\n",
    "        return f\"Packet Pair:\\n{self.left}\\n{self.right}\"\n",
    "\n",
    "    def check_order(self):\n",
    "        #print(f\"\\nComparing...\\nList 1: {self.left}\\nList 2: {self.right}\")\n",
    "        result = compare_two(self.left, self.right)\n",
    "        if result == 1:\n",
    "            return True\n",
    "        elif result == -1:\n",
    "            return False\n",
    "        else:\n",
    "            raise ValueError\n",
    "\n",
    "def parse_input(filename : str):\n",
    "    whole_input = lib.read_file_as_one(filename)\n",
    "    packets_raw = re.split(\"\\n+\", whole_input)\n",
    "    packets_raw = [json.loads(packet_line) for packet_line in packets_raw]\n",
    "    list_PacketPairs = [\n",
    "        PacketPair((packets_raw[2*i], packets_raw[2*i+1]))\n",
    "        for i in range(len(packets_raw) // 2)\n",
    "    ]\n",
    "    return list_PacketPairs\n",
    "\n",
    "def parse_input_nopairs(filename : str):\n",
    "    whole_input = lib.read_file_as_one(filename)\n",
    "    packets_raw = re.split(\"\\n+\", whole_input)\n",
    "    packets_raw = [json.loads(packet_line) for packet_line in packets_raw]\n",
    "    packets_raw.append([[2]])\n",
    "    packets_raw.append([[6]])\n",
    "    return packets_raw"
   ]
  },
  {
   "cell_type": "markdown",
   "metadata": {},
   "source": [
    "Solution Part A"
   ]
  },
  {
   "cell_type": "code",
   "execution_count": 50,
   "metadata": {},
   "outputs": [
    {
     "name": "stdout",
     "output_type": "stream",
     "text": [
      "Part A works for test file, moving on to whole input...\n",
      "Answer: 5390\n"
     ]
    }
   ],
   "source": [
    "def compute_partA(filename : str, verbose : bool = False):\n",
    "    result = parse_input(filename)\n",
    "    sum = 0\n",
    "    for idx, packetpair in enumerate(result):\n",
    "        if packetpair.check_order():\n",
    "            #print(f\"Pair {idx+1} is in right order.\")\n",
    "            sum += idx+1\n",
    "    return sum\n",
    "\n",
    "def solve_partA():\n",
    "    result = compute_partA(\"test_input.txt\", True)\n",
    "    true_solution = 13\n",
    "    assert result == true_solution, f\"Part A faulty on test file... output = {result}\"\n",
    "    print(\"Part A works for test file, moving on to whole input...\")\n",
    "    result = compute_partA(\"input.txt\", False)\n",
    "    print(f\"Answer: {result}\")\n",
    "    return\n",
    "\n",
    "solve_partA()"
   ]
  },
  {
   "cell_type": "markdown",
   "metadata": {},
   "source": [
    "Solution Part B"
   ]
  },
  {
   "cell_type": "code",
   "execution_count": 64,
   "metadata": {},
   "outputs": [
    {
     "name": "stdout",
     "output_type": "stream",
     "text": [
      "Decoder A at 10, Decoder B at 14\n",
      "Part B works for test file, moving on to whole input...\n",
      "Decoder A at 103, Decoder B at 187\n",
      "Answer: 19261\n"
     ]
    }
   ],
   "source": [
    "def compute_partB(filename : str, verbose : bool = False):\n",
    "    result = parse_input_nopairs(filename)\n",
    "    sum = 0\n",
    "    result = sorted(result, key=cmp_to_key(compare_two), reverse=True)\n",
    "    idx_2 = result.index([[2]])+1\n",
    "    idx_6 = result.index([[6]])+1\n",
    "    print(f\"Decoder A at {idx_2}, Decoder B at {idx_6}\")\n",
    "    return idx_2 * idx_6\n",
    "    \n",
    "\n",
    "def solve_partB():\n",
    "    result = compute_partB(\"test_input.txt\", True)\n",
    "    true_solution = 140\n",
    "    assert result == true_solution, f\"Part B faulty on test file... output = {result}\"\n",
    "    print(\"Part B works for test file, moving on to whole input...\")\n",
    "    result = compute_partB(\"input.txt\", False)\n",
    "    print(f\"Answer: {result}\")\n",
    "    return\n",
    "\n",
    "solve_partB()"
   ]
  }
 ],
 "metadata": {
  "kernelspec": {
   "display_name": "Python 3.11.0 ('.venv-aoc': venv)",
   "language": "python",
   "name": "python3"
  },
  "language_info": {
   "codemirror_mode": {
    "name": "ipython",
    "version": 3
   },
   "file_extension": ".py",
   "mimetype": "text/x-python",
   "name": "python",
   "nbconvert_exporter": "python",
   "pygments_lexer": "ipython3",
   "version": "3.11.0"
  },
  "orig_nbformat": 4,
  "vscode": {
   "interpreter": {
    "hash": "ef9b0263cc57ba0721637a3ca3550c3d5851fce86bac14c6061ac109ebcdb11c"
   }
  }
 },
 "nbformat": 4,
 "nbformat_minor": 2
}
