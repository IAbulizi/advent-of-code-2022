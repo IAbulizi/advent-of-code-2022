{
 "cells": [
  {
   "cell_type": "code",
   "execution_count": null,
   "metadata": {},
   "outputs": [],
   "source": [
    "import numpy as np"
   ]
  },
  {
   "cell_type": "markdown",
   "metadata": {},
   "source": [
    "Outline Problem\n",
    "- each rucksack has two compartments\n",
    "- all items of fixed type meant to go into ONE of the two compartments\n",
    "- problem: elf did wrong for ONE item per rucksack\n",
    "- input: list of all items in each rucksack\n",
    "- item: identified by single letter (lowercase != uppercase)\n",
    "- each rucksack has same number of items in each of the 2 compartments\n",
    "- corresponding priorities: a-z => 1-26 / A-Z => 27-52\n",
    "- Goal: find item type appearing in both compartments of each rucksack and sum up their priorities"
   ]
  },
  {
   "cell_type": "markdown",
   "metadata": {},
   "source": [
    "Outline Strategy\n",
    "- function to split one rucksack, returns two list of characters\n",
    "- function to return recurrence for given two list of characters\n",
    "- function to map priority for letter\n",
    "- function to read file\n",
    "- function to return result for Part A\n"
   ]
  },
  {
   "cell_type": "code",
   "execution_count": null,
   "metadata": {},
   "outputs": [],
   "source": [
    "print(f\"a = {ord('a')}, z = {ord('z')}\")\n",
    "print(f\"A = {ord('A')}, Z = {ord('Z')}\")\n",
    "\n",
    "def get_priority(letter):\n",
    "    val = ord(letter) #A-Z 65 - 90 / a-z 97 - 122\n",
    "    assert val >= 65 and val <= 90 or val >= 97 or val <= 122, f\"Input letter: {letter}\"\n",
    "    if val >= 65 and val <= 90: # A-Z => 27 - 52\n",
    "        return val - (65-27)\n",
    "    else: #a-z => 1-26\n",
    "        return val - (97-1)\n",
    "\n",
    "def get_recurrence(list1, list2):\n",
    "    result = list(set(list1).intersection(list2))\n",
    "    if len(result) == 1:\n",
    "        result = result[0]\n",
    "        priority = get_priority(result)\n",
    "    else:\n",
    "        ValueError\n",
    "    return result, priority"
   ]
  },
  {
   "cell_type": "code",
   "execution_count": null,
   "metadata": {},
   "outputs": [],
   "source": [
    "def read_file(filename):\n",
    "    with open(filename) as file:\n",
    "        lines = [line.rstrip() for line in file]\n",
    "    print(f\"Read file, print first 5 lines:\\n{lines[:10]}\")\n",
    "    return lines\n",
    "\n",
    "def line_to_rucksack(line):\n",
    "    length = len(line)\n",
    "    assert length%2 == 0, print(f\"length = {length}\")\n",
    "    a = line[:length//2]\n",
    "    a = list(a)\n",
    "    b = line[-length//2:]\n",
    "    b = list(b)\n",
    "    return a, b\n",
    "\n",
    "def lines_to_rucksacks(lines):\n",
    "    rucksacks = []\n",
    "    for line in lines:\n",
    "        rucksack = line_to_rucksack(line)\n",
    "        rucksacks.append(rucksack)\n",
    "    return rucksacks\n",
    "\n",
    "def lines_to_rucksacks_partb(lines):\n",
    "    rucksacks = []\n",
    "    for line in lines:\n",
    "        rucksack = line\n",
    "        rucksacks.append(rucksack)\n",
    "    return rucksacks\n",
    "\n",
    "def get_recurrence_partb(lists):\n",
    "    assert len(lists) == 3\n",
    "    result = list(set(lists[0]).intersection(lists[1]))\n",
    "    result = list(set(result).intersection(lists[2]))\n",
    "    if len(result) == 1:\n",
    "        result = result[0]\n",
    "        priority = get_priority(result)\n",
    "    else:\n",
    "        ValueError\n",
    "    return result, priority\n",
    "    "
   ]
  },
  {
   "cell_type": "code",
   "execution_count": null,
   "metadata": {},
   "outputs": [],
   "source": [
    "def test():\n",
    "    res_a, res_b = line_to_rucksack('acbZia')\n",
    "    assert res_a == ['a', 'c', 'b']\n",
    "    assert res_b == ['Z', 'i', 'a']\n",
    "    print(\"Test for line_to_rucksack() successful\")\n",
    "\n",
    "    result = lines_to_rucksacks(['acbZia','DazcUxID'])\n",
    "    result_a = result[0]\n",
    "    result_b = result[1]\n",
    "    assert result_a[0] == ['a', 'c', 'b']\n",
    "    assert result_a[1] == ['Z', 'i', 'a']\n",
    "    assert result_b[0] == ['D', 'a', 'z', 'c']\n",
    "    assert result_b[1] == ['U', 'x', 'I', 'D']\n",
    "    print(\"Test for lines_to_rucksacks() successful\")\n",
    "\n",
    "    a,b = get_recurrence(result_a[0], result_a[1])\n",
    "    assert a == 'a' and b == 1\n",
    "    a,b = get_recurrence(result_b[0], result_b[1])\n",
    "    assert a == 'D' and b == 30\n",
    "    print(\"Test for get_recurrence() and get_priority() successful\")    \n",
    "    return"
   ]
  },
  {
   "cell_type": "code",
   "execution_count": null,
   "metadata": {},
   "outputs": [],
   "source": [
    "def get_partA(filename):\n",
    "    lines = read_file(filename)\n",
    "    rucksacks = lines_to_rucksacks(lines)\n",
    "    sum_priorities = 0\n",
    "    for rucksack in rucksacks:\n",
    "        letter, priority = get_recurrence(rucksack[0], rucksack[1])\n",
    "        sum_priorities += priority\n",
    "    return sum_priorities\n",
    "\n",
    "def get_partB(filename):\n",
    "    lines = read_file(filename)\n",
    "    rucksacks = lines_to_rucksacks_partb(lines)\n",
    "    sum_priorities = 0\n",
    "    assert len(rucksacks) % 3 == 0\n",
    "    for iter in range(len(rucksacks) // 3):\n",
    "        letter, priority = get_recurrence_partb(rucksacks[3*iter: 3*(iter+1)])\n",
    "        sum_priorities += priority\n",
    "    return sum_priorities"
   ]
  },
  {
   "cell_type": "code",
   "execution_count": null,
   "metadata": {},
   "outputs": [],
   "source": [
    "# Test procedures\n",
    "_ = read_file(\"test_input.txt\")\n",
    "test()\n",
    "assert get_partA(\"test_input.txt\") == 31"
   ]
  },
  {
   "cell_type": "code",
   "execution_count": null,
   "metadata": {},
   "outputs": [],
   "source": [
    "get_partA(\"input.txt\")"
   ]
  },
  {
   "cell_type": "markdown",
   "metadata": {},
   "source": [
    "Part B:\n",
    "- elves divided into groups of three\n",
    "- each group shares badge := only item carried by all three\n",
    "- need to pull all badges out of the rucksacks\n",
    "\n",
    "- each set of three lines = one group\n",
    "- find badge for each group\n",
    "- sum up priorities for these item types"
   ]
  },
  {
   "cell_type": "code",
   "execution_count": null,
   "metadata": {},
   "outputs": [],
   "source": [
    "get_partB(\"test_input.txt\")"
   ]
  },
  {
   "cell_type": "code",
   "execution_count": null,
   "metadata": {},
   "outputs": [],
   "source": [
    "get_partB(\"input.txt\")"
   ]
  }
 ],
 "metadata": {
  "kernelspec": {
   "display_name": "Python 3.11.0 ('.venv-aoc': venv)",
   "language": "python",
   "name": "python3"
  },
  "language_info": {
   "codemirror_mode": {
    "name": "ipython",
    "version": 3
   },
   "file_extension": ".py",
   "mimetype": "text/x-python",
   "name": "python",
   "nbconvert_exporter": "python",
   "pygments_lexer": "ipython3",
   "version": "3.11.0"
  },
  "orig_nbformat": 4,
  "vscode": {
   "interpreter": {
    "hash": "ef9b0263cc57ba0721637a3ca3550c3d5851fce86bac14c6061ac109ebcdb11c"
   }
  }
 },
 "nbformat": 4,
 "nbformat_minor": 2
}
